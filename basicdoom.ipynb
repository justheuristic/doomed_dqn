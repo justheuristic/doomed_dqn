{
 "cells": [
  {
   "cell_type": "markdown",
   "metadata": {},
   "source": [
    "##### [sample solution that works]\n",
    "\n",
    "# This tutorial is will bring you through your first deep reinforcement learning model\n",
    "\n",
    "\n",
    "* Seaquest game as an example\n",
    "* Training a simple lasagne neural network for Q_learning objective\n",
    "\n",
    "\n",
    "## About OpenAI Gym\n",
    "\n",
    "* Its a recently published platform that basicly allows you to train agents in a wide variety of environments with near-identical interface.\n",
    "* This is twice as awesome since now we don't need to write a new wrapper for every game\n",
    "* Go check it out!\n",
    "  * Blog post - https://openai.com/blog/openai-gym-beta/\n",
    "  * Github - https://github.com/openai/gym\n",
    "\n",
    "\n",
    "## New to Lasagne and AgentNet?\n",
    "* We only require surface level knowledge of theano and lasagne, so you can just learn them as you go.\n",
    "* Alternatively, you can find Lasagne tutorials here:\n",
    " * Official mnist example: http://lasagne.readthedocs.io/en/latest/user/tutorial.html\n",
    " * From scratch: https://github.com/ddtm/dl-course/tree/master/Seminar4\n",
    " * From theano: https://github.com/craffel/Lasagne-tutorial/blob/master/examples/tutorial.ipynb\n",
    "* This is pretty much the basic tutorial for AgentNet, so it's okay not to know it.\n"
   ]
  },
  {
   "cell_type": "markdown",
   "metadata": {},
   "source": [
    "# Experiment setup\n",
    "* Here we basically just load the game and check that it works"
   ]
  },
  {
   "cell_type": "code",
   "execution_count": 1,
   "metadata": {
    "collapsed": false
   },
   "outputs": [
    {
     "name": "stderr",
     "output_type": "stream",
     "text": [
      "/usr/local/lib/python2.7/dist-packages/matplotlib/font_manager.py:273: UserWarning: Matplotlib is building the font cache using fc-list. This may take a moment.\n",
      "  warnings.warn('Matplotlib is building the font cache using fc-list. This may take a moment.')\n"
     ]
    },
    {
     "name": "stdout",
     "output_type": "stream",
     "text": [
      "env: THEANO_FLAGS=\"device=cpu\"\n",
      "env: OPENMP_NUM_THREADS=6\n"
     ]
    }
   ],
   "source": [
    "import matplotlib.pyplot as plt\n",
    "import numpy as np\n",
    "%matplotlib inline\n",
    "%env THEANO_FLAGS=\"device=cpu\"\n",
    "\n",
    "%env OPENMP_NUM_THREADS=6"
   ]
  },
  {
   "cell_type": "code",
   "execution_count": 2,
   "metadata": {
    "collapsed": false
   },
   "outputs": [],
   "source": [
    "from scipy.misc import imresize\n",
    "#game image will be resized from(96,128) to your image_size. \n",
    "#You may want a bigger image for your homework assignment IF you want a larger NN\n",
    "\n",
    "IMAGE_W,IMAGE_H = IMAGE_SIZE =(60,80)#(96,128)\n",
    "def preprocess(obs):\n",
    "    return (imresize(obs,IMAGE_SIZE).mean(-1)/255.)\n",
    "\n",
    "class Frameskipper:\n",
    "    def __init__(self,env,frameskip=4):\n",
    "        self.env=env\n",
    "        self.frameskip=frameskip\n",
    "    def step(self,action):\n",
    "        \n",
    "        total_reward = 0.\n",
    "        for i in range(self.frameskip):\n",
    "            obs,r,done,info = self.env.step(action)\n",
    "            total_reward += r\n",
    "            if done: break\n",
    "        \n",
    "        return obs,total_reward,done,info\n",
    "    def __getattr__(self,attr):\n",
    "        if attr == 'step':\n",
    "            return self.step\n",
    "        else:\n",
    "            return getattr(self.env,attr)\n",
    "        \n",
    "        \n",
    "            \n",
    "        \n",
    "        "
   ]
  },
  {
   "cell_type": "code",
   "execution_count": 3,
   "metadata": {
    "collapsed": false
   },
   "outputs": [
    {
     "name": "stderr",
     "output_type": "stream",
     "text": [
      "[2016-11-28 00:34:46,219] Making new env: ppaquette/DoomBasic-v0\n"
     ]
    }
   ],
   "source": [
    "import gym\n",
    "import ppaquette_gym_doom\n",
    "from ppaquette_gym_doom.wrappers.action_space import ToDiscrete\n",
    "GAME_NAME = 'ppaquette/DoomBasic-v0'\n",
    "env = Frameskipper(ToDiscrete(\"minimal\")(gym.make(GAME_NAME)))"
   ]
  },
  {
   "cell_type": "code",
   "execution_count": 4,
   "metadata": {
    "collapsed": true
   },
   "outputs": [],
   "source": [
    "#global params.\n",
    "\n",
    "#number of parallel agents and batch sequence length (frames)\n",
    "N_AGENTS = 1\n",
    "SEQ_LENGTH = 5"
   ]
  },
  {
   "cell_type": "code",
   "execution_count": 5,
   "metadata": {
    "collapsed": false
   },
   "outputs": [
    {
     "name": "stdout",
     "output_type": "stream",
     "text": [
      "-4.0 False\n"
     ]
    },
    {
     "data": {
      "text/plain": [
       "<matplotlib.image.AxesImage at 0x7fe559d7f550>"
      ]
     },
     "execution_count": 5,
     "metadata": {},
     "output_type": "execute_result"
    },
    {
     "data": {
      "image/png": "[encoded data removed]",
      "text/plain": [
       "<matplotlib.figure.Figure at 0x7fe560e71f10>"
      ]
     },
     "metadata": {},
     "output_type": "display_data"
    }
   ],
   "source": [
    "env.reset()\n",
    "obs,r,done,_=env.step(1)\n",
    "print r, done\n",
    "plt.imshow(preprocess(obs),cmap='gray',interpolation='none')"
   ]
  },
  {
   "cell_type": "markdown",
   "metadata": {},
   "source": [
    "# Basic agent setup\n",
    "Here we define a simple agent that maps game images into Qvalues using simple convolutional neural network.\n",
    "\n",
    "![scheme](https://s18.postimg.org/gbmsq6gmx/dqn_scheme.png)"
   ]
  },
  {
   "cell_type": "code",
   "execution_count": 6,
   "metadata": {
    "collapsed": false
   },
   "outputs": [
    {
     "name": "stdout",
     "output_type": "stream",
     "text": [
      "Couldn't import dot_parser, loading of dot files will not be possible.\n"
     ]
    }
   ],
   "source": [
    "import lasagne"
   ]
  },
  {
   "cell_type": "code",
   "execution_count": 7,
   "metadata": {
    "collapsed": false
   },
   "outputs": [],
   "source": [
    "from lasagne.layers import *\n",
    "#image observation at current tick goes here, shape = (sample_i,x,y,color)\n",
    "observation_layer = InputLayer((None,IMAGE_W,IMAGE_H))"
   ]
  },
  {
   "cell_type": "code",
   "execution_count": 8,
   "metadata": {
    "collapsed": false
   },
   "outputs": [],
   "source": [
    "from agentnet.memory import WindowAugmentation,LSTMCell,RNNCell\n",
    "\n",
    "#store 4-tick window in order to perceive motion of objects\n",
    "\n",
    "prev_window = InputLayer((None,4,IMAGE_W,IMAGE_H))\n",
    "\n",
    "current_window = WindowAugmentation(observation_layer,prev_window)"
   ]
  },
  {
   "cell_type": "code",
   "execution_count": 9,
   "metadata": {
    "collapsed": false
   },
   "outputs": [],
   "source": [
    "from lasagne.layers import Conv2DLayer,Pool2DLayer,DenseLayer,batch_norm,dropout\n",
    "\n",
    "#main neural network body\n",
    "conv0 = Conv2DLayer(current_window,32,filter_size=(8,8),stride=(4,4),name='conv0')\n",
    "\n",
    "conv1 = Conv2DLayer(batch_norm(conv0),64,filter_size=(4,4),stride=(2,2),name='conv1')\n",
    "\n",
    "dense0 = DenseLayer(batch_norm(conv1),512,name='dense',nonlinearity = lasagne.nonlinearities.tanh)\n",
    "\n",
    "#please set this to your last layer for convenience\n",
    "last_layer = dense0"
   ]
  },
  {
   "cell_type": "code",
   "execution_count": 10,
   "metadata": {
    "collapsed": false
   },
   "outputs": [],
   "source": [
    "#a layer that predicts Qvalues\n",
    "qvalues_layer = DenseLayer(last_layer,\n",
    "                   num_units = env.action_space.n,\n",
    "                   nonlinearity=lasagne.nonlinearities.linear,\n",
    "                   name=\"q-evaluator layer\")\n",
    "\n",
    "#To pick actions, we use an epsilon-greedy resolver (epsilon is a property)\n",
    "from agentnet.resolver import EpsilonGreedyResolver\n",
    "action_layer = EpsilonGreedyResolver(qvalues_layer,name=\"e-greedy action picker\")\n",
    "\n",
    "action_layer.epsilon.set_value(np.float32(0.1))\n"
   ]
  },
  {
   "cell_type": "code",
   "execution_count": 11,
   "metadata": {
    "collapsed": true
   },
   "outputs": [],
   "source": [
    "from agentnet.target_network import TargetNetwork\n",
    "targetnet = TargetNetwork(qvalues_layer,dense0)\n"
   ]
  },
  {
   "cell_type": "code",
   "execution_count": 12,
   "metadata": {
    "collapsed": false
   },
   "outputs": [],
   "source": [
    "qvalues_old = targetnet.output_layers"
   ]
  },
  {
   "cell_type": "code",
   "execution_count": null,
   "metadata": {
    "collapsed": false
   },
   "outputs": [],
   "source": []
  },
  {
   "cell_type": "markdown",
   "metadata": {},
   "source": [
    "##### Finally, agent\n",
    "We declare that this network is and MDP agent with such and such inputs, states and outputs"
   ]
  },
  {
   "cell_type": "code",
   "execution_count": 13,
   "metadata": {
    "collapsed": false
   },
   "outputs": [],
   "source": [
    "from agentnet.agent import Agent\n",
    "#all together\n",
    "agent = Agent(observation_layers=observation_layer,\n",
    "              policy_estimators=(qvalues_layer,qvalues_old),\n",
    "              agent_states={current_window:prev_window},\n",
    "              action_layers=action_layer)\n"
   ]
  },
  {
   "cell_type": "code",
   "execution_count": 14,
   "metadata": {
    "collapsed": false
   },
   "outputs": [
    {
     "data": {
      "text/plain": [
       "[conv0.W,\n",
       " conv0_bn.beta,\n",
       " conv0_bn.gamma,\n",
       " conv1.W,\n",
       " conv1_bn.beta,\n",
       " conv1_bn.gamma,\n",
       " dense.W,\n",
       " dense.b,\n",
       " q-evaluator layer.W,\n",
       " q-evaluator layer.b]"
      ]
     },
     "execution_count": 14,
     "metadata": {},
     "output_type": "execute_result"
    }
   ],
   "source": [
    "#Since it's a single lasagne network, one can get it's weights, output, etc\n",
    "weights = lasagne.layers.get_all_params(action_layer,trainable=True)\n",
    "weights"
   ]
  },
  {
   "cell_type": "markdown",
   "metadata": {},
   "source": [
    "# Create and manage a pool of atari sessions to play with\n",
    "\n",
    "* To make training more stable, we shall have an entire batch of game sessions each happening independent of others\n",
    "* Why several parallel agents help training: http://arxiv.org/pdf/1602.01783v1.pdf\n",
    "* Alternative approach: store more sessions: https://www.cs.toronto.edu/~vmnih/docs/dqn.pdf"
   ]
  },
  {
   "cell_type": "code",
   "execution_count": 15,
   "metadata": {
    "collapsed": false
   },
   "outputs": [
    {
     "name": "stderr",
     "output_type": "stream",
     "text": [
      "[2016-11-28 00:34:49,377] Making new env: ppaquette/DoomBasic-v0\n"
     ]
    }
   ],
   "source": [
    "from agentnet.experiments.openai_gym.pool import EnvPool\n",
    "\n",
    "pool = EnvPool(agent,lambda:Frameskipper(ToDiscrete(\"minimal\")(gym.make(GAME_NAME))), \n",
    "               preprocess_observation=preprocess,\n",
    "               n_games=N_AGENTS,max_size=1000) #may need to adjust for speed\n"
   ]
  },
  {
   "cell_type": "code",
   "execution_count": 16,
   "metadata": {
    "collapsed": false
   },
   "outputs": [
    {
     "name": "stdout",
     "output_type": "stream",
     "text": [
      "[[0 0 3 0 0 0 0]]\n",
      "[[-4. -4. -4. -4. -4. -4.  0.]]\n",
      "CPU times: user 317 ms, sys: 453 ms, total: 769 ms\n",
      "Wall time: 125 ms\n"
     ]
    }
   ],
   "source": [
    "%%time\n",
    "#interact for 7 ticks\n",
    "_,action_log,reward_log,_,_,_  = pool.interact(7)\n",
    "\n",
    "\n",
    "print(action_log[:2])\n",
    "print(reward_log[:2])"
   ]
  },
  {
   "cell_type": "code",
   "execution_count": 17,
   "metadata": {
    "collapsed": false
   },
   "outputs": [],
   "source": [
    "#load first sessions (this function calls interact and remembers sessions)\n",
    "pool.update(SEQ_LENGTH)"
   ]
  },
  {
   "cell_type": "markdown",
   "metadata": {},
   "source": [
    "# Q-learning\n",
    "* An agent has a method that produces symbolic environment interaction sessions\n",
    "* Such sessions are in sequences of observations, agent memory, actions, q-values,etc\n",
    "  * one has to pre-define maximum session length.\n",
    "\n",
    "* SessionPool also stores rewards (Q-learning objective)"
   ]
  },
  {
   "cell_type": "code",
   "execution_count": 18,
   "metadata": {
    "collapsed": false
   },
   "outputs": [],
   "source": [
    "#get agent's Qvalues obtained via experience replay\n",
    "replay = pool.experience_replay#.sample_session_batch(100,replace=True)\n",
    "\n",
    "_,_,_,_,(qvalues_seq,old_qvalues_seq) = agent.get_sessions(\n",
    "    replay,\n",
    "    session_length=SEQ_LENGTH,\n",
    "    optimize_experience_replay=True,\n",
    ")\n",
    "\n"
   ]
  },
  {
   "cell_type": "code",
   "execution_count": 19,
   "metadata": {
    "collapsed": false
   },
   "outputs": [],
   "source": [
    "#get reference Qvalues according to Qlearning algorithm\n",
    "from agentnet.learning import qlearning\n",
    "\n",
    "#crop rewards to [-1,+1] to avoid explosion.\n",
    "#import theano.tensor as T\n",
    "#rewards = T.maximum(-1,T.minimum(rewards,1))\n",
    "\n",
    "#loss for Qlearning = (Q(s,a) - (r+gamma*Q(s',a_max)))^2\n",
    "\n",
    "elwise_mse_loss = qlearning.get_elementwise_objective(qvalues_seq,\n",
    "                                                      replay.actions[0],\n",
    "                                                      replay.rewards,\n",
    "                                                      replay.is_alive,\n",
    "                                                      Qvalues_target=old_qvalues_seq,\n",
    "                                                      gamma_or_gammas=0.95,)\n",
    "\n",
    "#compute mean over \"alive\" fragments\n",
    "loss = elwise_mse_loss.sum() / replay.is_alive.sum()"
   ]
  },
  {
   "cell_type": "code",
   "execution_count": 20,
   "metadata": {
    "collapsed": false
   },
   "outputs": [],
   "source": [
    "# Compute weight updates\n",
    "updates = lasagne.updates.adam(loss,weights)"
   ]
  },
  {
   "cell_type": "code",
   "execution_count": 21,
   "metadata": {
    "collapsed": false
   },
   "outputs": [],
   "source": [
    "#compile train function\n",
    "import theano\n",
    "train_step = theano.function([],loss,updates=updates)"
   ]
  },
  {
   "cell_type": "markdown",
   "metadata": {},
   "source": [
    "# Demo run"
   ]
  },
  {
   "cell_type": "code",
   "execution_count": 22,
   "metadata": {
    "collapsed": true
   },
   "outputs": [],
   "source": [
    "action_layer.epsilon.set_value(0)"
   ]
  },
  {
   "cell_type": "code",
   "execution_count": 23,
   "metadata": {
    "collapsed": false
   },
   "outputs": [
    {
     "name": "stderr",
     "output_type": "stream",
     "text": [
      "[2016-11-28 00:35:00,498] Making new env: ppaquette/DoomBasic-v0\n",
      "[2016-11-28 00:35:00,512] Clearing 4 monitor files from previous run (because force=True was provided)\n",
      "[2016-11-28 00:35:00,751] Starting new video recorder writing to /root/drqn/records/openaigym.video.0.18681.video000000.mp4\n",
      "[2016-11-28 00:35:03,428] Finished writing results. You can upload them to the scoreboard via gym.upload('/root/drqn/records')\n"
     ]
    },
    {
     "name": "stdout",
     "output_type": "stream",
     "text": [
      "Episode finished after 88 timesteps with reward=-350.0\n"
     ]
    }
   ],
   "source": [
    "untrained_reward = pool.evaluate(save_path=\"./records\",record_video=True)"
   ]
  },
  {
   "cell_type": "code",
   "execution_count": 24,
   "metadata": {
    "collapsed": false
   },
   "outputs": [
    {
     "data": {
      "text/html": [
       "\n",
       "<video width=\"640\" height=\"480\" controls>\n",
       "  <source src=\"records/openaigym.video.94.4407.video000000.mp4\" type=\"video/mp4\">\n",
       "</video>\n"
      ],
      "text/plain": [
       "<IPython.core.display.HTML object>"
      ]
     },
     "execution_count": 24,
     "metadata": {},
     "output_type": "execute_result"
    }
   ],
   "source": [
    "from IPython.display import HTML\n",
    "\n",
    "video_path=\"records/openaigym.video.94.4407.video000000.mp4\"\n",
    "\n",
    "HTML(\"\"\"\n",
    "<video width=\"640\" height=\"480\" controls>\n",
    "  <source src=\"{}\" type=\"video/mp4\">\n",
    "</video>\n",
    "\"\"\".format(video_path))\n"
   ]
  },
  {
   "cell_type": "markdown",
   "metadata": {},
   "source": [
    "# Training loop"
   ]
  },
  {
   "cell_type": "code",
   "execution_count": 25,
   "metadata": {
    "collapsed": false
   },
   "outputs": [],
   "source": [
    "#starting epoch\n",
    "epoch_counter = 1\n",
    "\n",
    "#full game rewards\n",
    "rewards = {epoch_counter:untrained_reward}"
   ]
  },
  {
   "cell_type": "code",
   "execution_count": 26,
   "metadata": {
    "collapsed": false
   },
   "outputs": [
    {
     "name": "stdout",
     "output_type": "stream",
     "text": [
      "iter=10\tepsilon=0.954\treward/step=-1.50909\n",
      "iter=20\tepsilon=0.910\treward/step=-1.52381\n",
      "iter=30\tepsilon=0.868\treward/step=-2.29032\n",
      "iter=40\tepsilon=0.828\treward/step=-2.58049\n",
      "iter=50\tepsilon=0.790\treward/step=-2.37647\n",
      "iter=60\tepsilon=0.754\treward/step=-2.60984\n",
      "iter=70\tepsilon=0.719\treward/step=-2.44225\n",
      "iter=80\tepsilon=0.687\treward/step=-2.06420\n",
      "iter=90\tepsilon=0.656\treward/step=-2.27692\n"
     ]
    },
    {
     "name": "stderr",
     "output_type": "stream",
     "text": [
      "[2016-11-28 00:35:34,193] Making new env: ppaquette/DoomBasic-v0\n",
      "[2016-11-28 00:35:34,200] Clearing 4 monitor files from previous run (because force=True was provided)\n"
     ]
    },
    {
     "name": "stdout",
     "output_type": "stream",
     "text": [
      "iter=100\tepsilon=0.626\treward/step=-2.42574\n"
     ]
    },
    {
     "name": "stderr",
     "output_type": "stream",
     "text": [
      "[2016-11-28 00:35:35,780] Finished writing results. You can upload them to the scoreboard via gym.upload('/root/drqn/records')\n"
     ]
    },
    {
     "name": "stdout",
     "output_type": "stream",
     "text": [
      "Episode finished after 88 timesteps with reward=-400.0\n",
      "iter=110\tepsilon=0.598\treward/step=-2.54054\n",
      "iter=120\tepsilon=0.571\treward/step=-2.63471\n",
      "iter=130\tepsilon=0.546\treward/step=-2.69313\n",
      "iter=140\tepsilon=0.522\treward/step=-2.76454\n",
      "iter=150\tepsilon=0.499\treward/step=-2.66225\n",
      "iter=160\tepsilon=0.477\treward/step=-2.58012\n",
      "iter=170\tepsilon=0.456\treward/step=-2.53099\n",
      "iter=180\tepsilon=0.436\treward/step=-2.36243\n",
      "iter=190\tepsilon=0.417\treward/step=-2.33298\n"
     ]
    },
    {
     "name": "stderr",
     "output_type": "stream",
     "text": [
      "[2016-11-28 00:36:46,046] Making new env: ppaquette/DoomBasic-v0\n",
      "[2016-11-28 00:36:46,054] Clearing 2 monitor files from previous run (because force=True was provided)\n"
     ]
    },
    {
     "name": "stdout",
     "output_type": "stream",
     "text": [
      "iter=200\tepsilon=0.399\treward/step=-2.39602\n"
     ]
    },
    {
     "name": "stderr",
     "output_type": "stream",
     "text": [
      "[2016-11-28 00:36:47,622] Finished writing results. You can upload them to the scoreboard via gym.upload('/root/drqn/records')\n"
     ]
    },
    {
     "name": "stdout",
     "output_type": "stream",
     "text": [
      "Episode finished after 88 timesteps with reward=-380.0\n",
      "iter=210\tepsilon=0.382\treward/step=-2.46730\n",
      "iter=220\tepsilon=0.366\treward/step=-2.50860\n",
      "iter=230\tepsilon=0.351\treward/step=-2.55584\n",
      "iter=240\tepsilon=0.336\treward/step=-2.59834\n",
      "iter=250\tepsilon=0.322\treward/step=-2.64223\n",
      "iter=260\tepsilon=0.309\treward/step=-2.67816\n",
      "iter=270\tepsilon=0.296\treward/step=-2.71587\n",
      "iter=280\tepsilon=0.284\treward/step=-2.74662\n",
      "iter=290\tepsilon=0.273\treward/step=-2.77251\n"
     ]
    },
    {
     "name": "stderr",
     "output_type": "stream",
     "text": [
      "[2016-11-28 00:38:37,277] Making new env: ppaquette/DoomBasic-v0\n",
      "[2016-11-28 00:38:37,285] Clearing 2 monitor files from previous run (because force=True was provided)\n"
     ]
    },
    {
     "name": "stdout",
     "output_type": "stream",
     "text": [
      "iter=300\tepsilon=0.262\treward/step=-2.79668\n"
     ]
    },
    {
     "name": "stderr",
     "output_type": "stream",
     "text": [
      "[2016-11-28 00:38:38,771] Finished writing results. You can upload them to the scoreboard via gym.upload('/root/drqn/records')\n"
     ]
    },
    {
     "name": "stdout",
     "output_type": "stream",
     "text": [
      "Episode finished after 88 timesteps with reward=-405.0\n",
      "iter=310\tepsilon=0.252\treward/step=-2.60000\n",
      "iter=320\tepsilon=0.242\treward/step=-2.63801\n",
      "iter=330\tepsilon=0.232\treward/step=-2.68520\n",
      "iter=340\tepsilon=0.224\treward/step=-2.58299\n",
      "iter=350\tepsilon=0.215\treward/step=-2.42165\n",
      "iter=360\tepsilon=0.207\treward/step=-2.45152\n",
      "iter=370\tepsilon=0.199\treward/step=-2.48518\n",
      "iter=380\tepsilon=0.192\treward/step=-2.51654\n",
      "iter=390\tepsilon=0.185\treward/step=-2.54680\n"
     ]
    },
    {
     "name": "stderr",
     "output_type": "stream",
     "text": [
      "[2016-11-28 00:41:07,348] Making new env: ppaquette/DoomBasic-v0\n",
      "[2016-11-28 00:41:07,355] Clearing 2 monitor files from previous run (because force=True was provided)\n"
     ]
    },
    {
     "name": "stdout",
     "output_type": "stream",
     "text": [
      "iter=400\tepsilon=0.179\treward/step=-2.47332\n"
     ]
    },
    {
     "name": "stderr",
     "output_type": "stream",
     "text": [
      "[2016-11-28 00:41:08,948] Finished writing results. You can upload them to the scoreboard via gym.upload('/root/drqn/records')\n"
     ]
    },
    {
     "name": "stdout",
     "output_type": "stream",
     "text": [
      "Episode finished after 88 timesteps with reward=-455.0\n",
      "iter=410\tepsilon=0.172\treward/step=-2.45450\n",
      "iter=420\tepsilon=0.166\treward/step=-2.49121\n",
      "iter=430\tepsilon=0.161\treward/step=-2.47146\n",
      "iter=440\tepsilon=0.155\treward/step=-2.44354\n",
      "iter=450\tepsilon=0.150\treward/step=-2.47140\n",
      "iter=460\tepsilon=0.145\treward/step=-2.49111\n",
      "iter=470\tepsilon=0.141\treward/step=-2.46030\n",
      "iter=480\tepsilon=0.136\treward/step=-2.48191\n",
      "iter=490\tepsilon=0.132\treward/step=-2.37067\n"
     ]
    },
    {
     "name": "stderr",
     "output_type": "stream",
     "text": [
      "[2016-11-28 00:44:18,782] Making new env: ppaquette/DoomBasic-v0\n",
      "[2016-11-28 00:44:18,788] Clearing 2 monitor files from previous run (because force=True was provided)\n"
     ]
    },
    {
     "name": "stdout",
     "output_type": "stream",
     "text": [
      "iter=500\tepsilon=0.128\treward/step=-2.35010\n"
     ]
    },
    {
     "name": "stderr",
     "output_type": "stream",
     "text": [
      "[2016-11-28 00:44:19,556] Finished writing results. You can upload them to the scoreboard via gym.upload('/root/drqn/records')\n"
     ]
    },
    {
     "name": "stdout",
     "output_type": "stream",
     "text": [
      "Episode finished after 37 timesteps with reward=-74.0\n",
      "iter=510\tepsilon=0.124\treward/step=-2.25245\n",
      "iter=520\tepsilon=0.121\treward/step=-2.24568\n",
      "iter=530\tepsilon=0.117\treward/step=-2.27119\n",
      "iter=540\tepsilon=0.114\treward/step=-2.17116\n",
      "iter=550\tepsilon=0.111\treward/step=-2.16624\n",
      "iter=560\tepsilon=0.108\treward/step=-2.15330\n",
      "iter=570\tepsilon=0.105\treward/step=-2.05990\n",
      "iter=580\tepsilon=0.102\treward/step=-2.04578\n",
      "iter=590\tepsilon=0.100\treward/step=-2.03959\n"
     ]
    },
    {
     "name": "stderr",
     "output_type": "stream",
     "text": [
      "[2016-11-28 00:48:08,416] Making new env: ppaquette/DoomBasic-v0\n",
      "[2016-11-28 00:48:08,423] Clearing 2 monitor files from previous run (because force=True was provided)\n"
     ]
    },
    {
     "name": "stdout",
     "output_type": "stream",
     "text": [
      "iter=600\tepsilon=0.097\treward/step=-1.95840\n"
     ]
    },
    {
     "name": "stderr",
     "output_type": "stream",
     "text": [
      "[2016-11-28 00:48:09,985] Finished writing results. You can upload them to the scoreboard via gym.upload('/root/drqn/records')\n"
     ]
    },
    {
     "name": "stdout",
     "output_type": "stream",
     "text": [
      "Episode finished after 88 timesteps with reward=-360.0\n",
      "iter=610\tepsilon=0.095\treward/step=-1.94828\n",
      "iter=620\tepsilon=0.093\treward/step=-1.97649\n",
      "iter=630\tepsilon=0.091\treward/step=-1.96450\n",
      "iter=640\tepsilon=0.089\treward/step=-1.91950\n",
      "iter=650\tepsilon=0.087\treward/step=-1.93917\n",
      "iter=660\tepsilon=0.085\treward/step=-1.96097\n",
      "iter=670\tepsilon=0.083\treward/step=-1.98241\n",
      "iter=680\tepsilon=0.082\treward/step=-2.00881\n",
      "iter=690\tepsilon=0.080\treward/step=-2.00521\n"
     ]
    },
    {
     "name": "stderr",
     "output_type": "stream",
     "text": [
      "[2016-11-28 00:52:44,409] Making new env: ppaquette/DoomBasic-v0\n",
      "[2016-11-28 00:52:44,415] Clearing 2 monitor files from previous run (because force=True was provided)\n"
     ]
    },
    {
     "name": "stdout",
     "output_type": "stream",
     "text": [
      "iter=700\tepsilon=0.079\treward/step=-2.03081\n"
     ]
    },
    {
     "name": "stderr",
     "output_type": "stream",
     "text": [
      "[2016-11-28 00:52:46,227] Finished writing results. You can upload them to the scoreboard via gym.upload('/root/drqn/records')\n"
     ]
    },
    {
     "name": "stdout",
     "output_type": "stream",
     "text": [
      "Episode finished after 88 timesteps with reward=-355.0\n",
      "iter=710\tepsilon=0.077\treward/step=-2.01800\n",
      "iter=720\tepsilon=0.076\treward/step=-2.03856\n",
      "iter=730\tepsilon=0.075\treward/step=-2.00137\n",
      "iter=740\tepsilon=0.073\treward/step=-2.02564\n",
      "iter=750\tepsilon=0.072\treward/step=-1.98855\n",
      "iter=760\tepsilon=0.071\treward/step=-1.89698\n",
      "iter=770\tepsilon=0.070\treward/step=-1.91647\n",
      "iter=780\tepsilon=0.069\treward/step=-1.93803\n",
      "iter=790\tepsilon=0.068\treward/step=-1.87560\n"
     ]
    },
    {
     "name": "stderr",
     "output_type": "stream",
     "text": [
      "[2016-11-28 00:58:48,343] Making new env: ppaquette/DoomBasic-v0\n",
      "[2016-11-28 00:58:48,350] Clearing 2 monitor files from previous run (because force=True was provided)\n"
     ]
    },
    {
     "name": "stdout",
     "output_type": "stream",
     "text": [
      "iter=800\tepsilon=0.067\treward/step=-1.89463\n"
     ]
    },
    {
     "name": "stderr",
     "output_type": "stream",
     "text": [
      "[2016-11-28 00:58:48,651] Finished writing results. You can upload them to the scoreboard via gym.upload('/root/drqn/records')\n"
     ]
    },
    {
     "name": "stdout",
     "output_type": "stream",
     "text": [
      "Episode finished after 2 timesteps with reward=96.0\n",
      "iter=810\tepsilon=0.067\treward/step=-1.88607\n",
      "iter=820\tepsilon=0.066\treward/step=-1.87722\n",
      "iter=830\tepsilon=0.065\treward/step=-1.89434\n",
      "iter=840\tepsilon=0.064\treward/step=-1.89132\n",
      "iter=850\tepsilon=0.064\treward/step=-1.88719\n",
      "iter=860\tepsilon=0.063\treward/step=-1.88432\n",
      "iter=870\tepsilon=0.062\treward/step=-1.90402\n",
      "iter=880\tepsilon=0.062\treward/step=-1.90261\n",
      "iter=890\tepsilon=0.061\treward/step=-1.92166\n"
     ]
    },
    {
     "name": "stderr",
     "output_type": "stream",
     "text": [
      "[2016-11-28 01:05:29,036] Making new env: ppaquette/DoomBasic-v0\n",
      "[2016-11-28 01:05:29,043] Clearing 2 monitor files from previous run (because force=True was provided)\n"
     ]
    },
    {
     "name": "stdout",
     "output_type": "stream",
     "text": [
      "iter=900\tepsilon=0.061\treward/step=-1.91387\n"
     ]
    },
    {
     "name": "stderr",
     "output_type": "stream",
     "text": [
      "[2016-11-28 01:05:29,359] Finished writing results. You can upload them to the scoreboard via gym.upload('/root/drqn/records')\n"
     ]
    },
    {
     "name": "stdout",
     "output_type": "stream",
     "text": [
      "Episode finished after 2 timesteps with reward=96.0\n",
      "iter=910\tepsilon=0.060\treward/step=-1.93238\n",
      "iter=920\tepsilon=0.060\treward/step=-1.94940\n",
      "iter=930\tepsilon=0.059\treward/step=-1.92009\n",
      "iter=940\tepsilon=0.059\treward/step=-1.93900\n",
      "iter=950\tepsilon=0.058\treward/step=-1.95415\n",
      "iter=960\tepsilon=0.058\treward/step=-1.90718\n",
      "iter=970\tepsilon=0.057\treward/step=-1.89928\n",
      "iter=980\tepsilon=0.057\treward/step=-1.91254\n",
      "iter=990\tepsilon=0.057\treward/step=-1.92735\n"
     ]
    },
    {
     "name": "stderr",
     "output_type": "stream",
     "text": [
      "[2016-11-28 01:12:59,755] Making new env: ppaquette/DoomBasic-v0\n",
      "[2016-11-28 01:12:59,762] Clearing 2 monitor files from previous run (because force=True was provided)\n"
     ]
    },
    {
     "name": "stdout",
     "output_type": "stream",
     "text": [
      "iter=1000\tepsilon=0.056\treward/step=-1.91920\n"
     ]
    },
    {
     "name": "stderr",
     "output_type": "stream",
     "text": [
      "[2016-11-28 01:13:01,604] Finished writing results. You can upload them to the scoreboard via gym.upload('/root/drqn/records')\n"
     ]
    },
    {
     "name": "stdout",
     "output_type": "stream",
     "text": [
      "Episode finished after 88 timesteps with reward=-390.0\n",
      "iter=1010\tepsilon=0.056\treward/step=-1.94280\n",
      "iter=1020\tepsilon=0.056\treward/step=-1.95920\n",
      "iter=1030\tepsilon=0.056\treward/step=-1.91540\n",
      "iter=1040\tepsilon=0.055\treward/step=-1.81100\n",
      "iter=1050\tepsilon=0.055\treward/step=-1.83860\n",
      "iter=1060\tepsilon=0.055\treward/step=-1.83960\n",
      "iter=1070\tepsilon=0.055\treward/step=-1.83860\n",
      "iter=1080\tepsilon=0.054\treward/step=-1.88380\n",
      "iter=1090\tepsilon=0.054\treward/step=-1.88480\n"
     ]
    },
    {
     "name": "stderr",
     "output_type": "stream",
     "text": [
      "[2016-11-28 01:21:04,315] Making new env: ppaquette/DoomBasic-v0\n",
      "[2016-11-28 01:21:04,321] Clearing 2 monitor files from previous run (because force=True was provided)\n"
     ]
    },
    {
     "name": "stdout",
     "output_type": "stream",
     "text": [
      "iter=1100\tepsilon=0.054\treward/step=-1.88580\n"
     ]
    },
    {
     "name": "stderr",
     "output_type": "stream",
     "text": [
      "[2016-11-28 01:21:05,840] Finished writing results. You can upload them to the scoreboard via gym.upload('/root/drqn/records')\n"
     ]
    },
    {
     "name": "stdout",
     "output_type": "stream",
     "text": [
      "Episode finished after 88 timesteps with reward=-445.0\n",
      "iter=1110\tepsilon=0.054\treward/step=-1.86760\n",
      "iter=1120\tepsilon=0.054\treward/step=-1.87280\n",
      "iter=1130\tepsilon=0.053\treward/step=-1.87660\n",
      "iter=1140\tepsilon=0.053\treward/step=-1.79000\n",
      "iter=1150\tepsilon=0.053\treward/step=-1.74940\n",
      "iter=1160\tepsilon=0.053\treward/step=-1.77300\n",
      "iter=1170\tepsilon=0.053\treward/step=-1.72480\n",
      "iter=1180\tepsilon=0.053\treward/step=-1.69720\n",
      "iter=1190\tepsilon=0.052\treward/step=-1.64840\n"
     ]
    },
    {
     "name": "stderr",
     "output_type": "stream",
     "text": [
      "[2016-11-28 01:29:04,844] Making new env: ppaquette/DoomBasic-v0\n",
      "[2016-11-28 01:29:04,858] Clearing 2 monitor files from previous run (because force=True was provided)\n"
     ]
    },
    {
     "name": "stdout",
     "output_type": "stream",
     "text": [
      "iter=1200\tepsilon=0.052\treward/step=-1.64740\n"
     ]
    },
    {
     "name": "stderr",
     "output_type": "stream",
     "text": [
      "[2016-11-28 01:29:05,222] Finished writing results. You can upload them to the scoreboard via gym.upload('/root/drqn/records')\n"
     ]
    },
    {
     "name": "stdout",
     "output_type": "stream",
     "text": [
      "Episode finished after 4 timesteps with reward=88.0\n",
      "iter=1210\tepsilon=0.052\treward/step=-1.61880\n",
      "iter=1220\tepsilon=0.052\treward/step=-1.57380\n",
      "iter=1230\tepsilon=0.052\treward/step=-1.46460\n",
      "iter=1240\tepsilon=0.052\treward/step=-1.37440\n",
      "iter=1250\tepsilon=0.052\treward/step=-1.30660\n",
      "iter=1260\tepsilon=0.052\treward/step=-1.30480\n",
      "iter=1270\tepsilon=0.052\treward/step=-1.27800\n",
      "iter=1280\tepsilon=0.052\treward/step=-1.16760\n",
      "iter=1290\tepsilon=0.052\treward/step=-1.09980\n"
     ]
    },
    {
     "name": "stderr",
     "output_type": "stream",
     "text": [
      "[2016-11-28 01:37:30,494] Making new env: ppaquette/DoomBasic-v0\n",
      "[2016-11-28 01:37:30,504] Clearing 2 monitor files from previous run (because force=True was provided)\n"
     ]
    },
    {
     "name": "stdout",
     "output_type": "stream",
     "text": [
      "iter=1300\tepsilon=0.051\treward/step=-1.07520\n"
     ]
    },
    {
     "name": "stderr",
     "output_type": "stream",
     "text": [
      "[2016-11-28 01:37:30,911] Finished writing results. You can upload them to the scoreboard via gym.upload('/root/drqn/records')\n"
     ]
    },
    {
     "name": "stdout",
     "output_type": "stream",
     "text": [
      "Episode finished after 8 timesteps with reward=72.0\n",
      "iter=1310\tepsilon=0.051\treward/step=-1.14240\n",
      "iter=1320\tepsilon=0.051\treward/step=-1.11440\n",
      "iter=1330\tepsilon=0.051\treward/step=-1.10440\n",
      "iter=1340\tepsilon=0.051\treward/step=-1.12160\n",
      "iter=1350\tepsilon=0.051\treward/step=-1.09800\n",
      "iter=1360\tepsilon=0.051\treward/step=-1.03220\n",
      "iter=1370\tepsilon=0.051\treward/step=-0.98700\n",
      "iter=1380\tepsilon=0.051\treward/step=-0.87520\n",
      "iter=1390\tepsilon=0.051\treward/step=-0.76360\n"
     ]
    },
    {
     "name": "stderr",
     "output_type": "stream",
     "text": [
      "[2016-11-28 01:45:44,378] Making new env: ppaquette/DoomBasic-v0\n",
      "[2016-11-28 01:45:44,391] Clearing 2 monitor files from previous run (because force=True was provided)\n"
     ]
    },
    {
     "name": "stdout",
     "output_type": "stream",
     "text": [
      "iter=1400\tepsilon=0.051\treward/step=-0.67000\n"
     ]
    },
    {
     "name": "stderr",
     "output_type": "stream",
     "text": [
      "[2016-11-28 01:45:44,859] Finished writing results. You can upload them to the scoreboard via gym.upload('/root/drqn/records')\n"
     ]
    },
    {
     "name": "stdout",
     "output_type": "stream",
     "text": [
      "Episode finished after 9 timesteps with reward=68.0\n",
      "iter=1410\tepsilon=0.051\treward/step=-0.66540\n",
      "iter=1420\tepsilon=0.051\treward/step=-0.63860\n",
      "iter=1430\tepsilon=0.051\treward/step=-0.52540\n",
      "iter=1440\tepsilon=0.051\treward/step=-0.48160\n",
      "iter=1450\tepsilon=0.051\treward/step=-0.46000\n",
      "iter=1460\tepsilon=0.051\treward/step=-0.32940\n",
      "iter=1470\tepsilon=0.051\treward/step=-0.30900\n",
      "iter=1480\tepsilon=0.051\treward/step=-0.24360\n",
      "iter=1490\tepsilon=0.051\treward/step=-0.22100\n"
     ]
    },
    {
     "name": "stderr",
     "output_type": "stream",
     "text": [
      "[2016-11-28 01:53:56,157] Making new env: ppaquette/DoomBasic-v0\n",
      "[2016-11-28 01:53:56,164] Clearing 2 monitor files from previous run (because force=True was provided)\n"
     ]
    },
    {
     "name": "stdout",
     "output_type": "stream",
     "text": [
      "iter=1500\tepsilon=0.051\treward/step=-0.19740\n"
     ]
    },
    {
     "name": "stderr",
     "output_type": "stream",
     "text": [
      "[2016-11-28 01:53:56,699] Finished writing results. You can upload them to the scoreboard via gym.upload('/root/drqn/records')\n"
     ]
    },
    {
     "name": "stdout",
     "output_type": "stream",
     "text": [
      "Episode finished after 11 timesteps with reward=52.0\n",
      "iter=1510\tepsilon=0.050\treward/step=-0.19100\n",
      "iter=1520\tepsilon=0.050\treward/step=-0.14420\n",
      "iter=1530\tepsilon=0.050\treward/step=-0.10000\n",
      "iter=1540\tepsilon=0.050\treward/step=-0.09960\n",
      "iter=1550\tepsilon=0.050\treward/step=-0.04780\n",
      "iter=1560\tepsilon=0.050\treward/step=-0.00680\n",
      "iter=1570\tepsilon=0.050\treward/step=-0.02760\n",
      "iter=1580\tepsilon=0.050\treward/step=0.01300\n",
      "iter=1590\tepsilon=0.050\treward/step=0.01940\n"
     ]
    },
    {
     "name": "stderr",
     "output_type": "stream",
     "text": [
      "[2016-11-28 02:01:48,567] Making new env: ppaquette/DoomBasic-v0\n",
      "[2016-11-28 02:01:48,575] Clearing 2 monitor files from previous run (because force=True was provided)\n"
     ]
    },
    {
     "name": "stdout",
     "output_type": "stream",
     "text": [
      "iter=1600\tepsilon=0.050\treward/step=0.02180\n"
     ]
    },
    {
     "name": "stderr",
     "output_type": "stream",
     "text": [
      "[2016-11-28 02:01:50,092] Finished writing results. You can upload them to the scoreboard via gym.upload('/root/drqn/records')\n"
     ]
    },
    {
     "name": "stdout",
     "output_type": "stream",
     "text": [
      "Episode finished after 88 timesteps with reward=-425.0\n",
      "iter=1610\tepsilon=0.050\treward/step=0.08420\n",
      "iter=1620\tepsilon=0.050\treward/step=0.21880\n",
      "iter=1630\tepsilon=0.050\treward/step=0.34860\n",
      "iter=1640\tepsilon=0.050\treward/step=0.39220\n",
      "iter=1650\tepsilon=0.050\treward/step=0.52180\n",
      "iter=1660\tepsilon=0.050\treward/step=0.60840\n",
      "iter=1670\tepsilon=0.050\treward/step=0.71740\n",
      "iter=1680\tepsilon=0.050\treward/step=0.82660\n",
      "iter=1690\tepsilon=0.050\treward/step=0.89760\n"
     ]
    },
    {
     "name": "stderr",
     "output_type": "stream",
     "text": [
      "[2016-11-28 02:08:39,655] Making new env: ppaquette/DoomBasic-v0\n",
      "[2016-11-28 02:08:39,662] Clearing 2 monitor files from previous run (because force=True was provided)\n"
     ]
    },
    {
     "name": "stdout",
     "output_type": "stream",
     "text": [
      "iter=1700\tepsilon=0.050\treward/step=0.96640\n"
     ]
    },
    {
     "name": "stderr",
     "output_type": "stream",
     "text": [
      "[2016-11-28 02:08:40,023] Finished writing results. You can upload them to the scoreboard via gym.upload('/root/drqn/records')\n"
     ]
    },
    {
     "name": "stdout",
     "output_type": "stream",
     "text": [
      "Episode finished after 8 timesteps with reward=72.0\n",
      "iter=1710\tepsilon=0.050\treward/step=1.02960\n",
      "iter=1720\tepsilon=0.050\treward/step=1.16220\n",
      "iter=1730\tepsilon=0.050\treward/step=1.25160\n",
      "iter=1740\tepsilon=0.050\treward/step=1.36560\n",
      "iter=1750\tepsilon=0.050\treward/step=1.43240\n",
      "iter=1760\tepsilon=0.050\treward/step=1.43600\n",
      "iter=1770\tepsilon=0.050\treward/step=1.58920\n",
      "iter=1780\tepsilon=0.050\treward/step=1.67960\n",
      "iter=1790\tepsilon=0.050\treward/step=1.70300\n"
     ]
    },
    {
     "name": "stderr",
     "output_type": "stream",
     "text": [
      "[2016-11-28 02:15:28,151] Making new env: ppaquette/DoomBasic-v0\n",
      "[2016-11-28 02:15:28,158] Clearing 2 monitor files from previous run (because force=True was provided)\n"
     ]
    },
    {
     "name": "stdout",
     "output_type": "stream",
     "text": [
      "iter=1800\tepsilon=0.050\treward/step=1.79040\n"
     ]
    },
    {
     "name": "stderr",
     "output_type": "stream",
     "text": [
      "[2016-11-28 02:15:28,572] Finished writing results. You can upload them to the scoreboard via gym.upload('/root/drqn/records')\n"
     ]
    },
    {
     "name": "stdout",
     "output_type": "stream",
     "text": [
      "Episode finished after 11 timesteps with reward=55.0\n",
      "iter=1810\tepsilon=0.050\treward/step=1.87740\n",
      "iter=1820\tepsilon=0.050\treward/step=1.96400\n",
      "iter=1830\tepsilon=0.050\treward/step=2.07140\n",
      "iter=1840\tepsilon=0.050\treward/step=2.16380\n",
      "iter=1850\tepsilon=0.050\treward/step=2.23140\n",
      "iter=1860\tepsilon=0.050\treward/step=2.30060\n",
      "iter=1870\tepsilon=0.050\treward/step=2.38940\n",
      "iter=1880\tepsilon=0.050\treward/step=2.37120\n",
      "iter=1890\tepsilon=0.050\treward/step=2.46060\n"
     ]
    },
    {
     "name": "stderr",
     "output_type": "stream",
     "text": [
      "[2016-11-28 02:22:17,122] Making new env: ppaquette/DoomBasic-v0\n",
      "[2016-11-28 02:22:17,129] Clearing 2 monitor files from previous run (because force=True was provided)\n"
     ]
    },
    {
     "name": "stdout",
     "output_type": "stream",
     "text": [
      "iter=1900\tepsilon=0.050\treward/step=2.54740\n"
     ]
    },
    {
     "name": "stderr",
     "output_type": "stream",
     "text": [
      "[2016-11-28 02:22:17,435] Finished writing results. You can upload them to the scoreboard via gym.upload('/root/drqn/records')\n"
     ]
    },
    {
     "name": "stdout",
     "output_type": "stream",
     "text": [
      "Episode finished after 4 timesteps with reward=88.0\n",
      "iter=1910\tepsilon=0.050\treward/step=2.57000\n",
      "iter=1920\tepsilon=0.050\treward/step=2.63300\n",
      "iter=1930\tepsilon=0.050\treward/step=2.70200\n",
      "iter=1940\tepsilon=0.050\treward/step=2.74820\n",
      "iter=1950\tepsilon=0.050\treward/step=2.83640\n",
      "iter=1960\tepsilon=0.050\treward/step=2.82100\n",
      "iter=1970\tepsilon=0.050\treward/step=2.81900\n",
      "iter=1980\tepsilon=0.050\treward/step=2.92400\n",
      "iter=1990\tepsilon=0.050\treward/step=2.96700\n"
     ]
    },
    {
     "name": "stderr",
     "output_type": "stream",
     "text": [
      "[2016-11-28 02:29:05,160] Making new env: ppaquette/DoomBasic-v0\n",
      "[2016-11-28 02:29:05,167] Clearing 2 monitor files from previous run (because force=True was provided)\n"
     ]
    },
    {
     "name": "stdout",
     "output_type": "stream",
     "text": [
      "iter=2000\tepsilon=0.050\treward/step=3.03280\n"
     ]
    },
    {
     "name": "stderr",
     "output_type": "stream",
     "text": [
      "[2016-11-28 02:29:05,538] Finished writing results. You can upload them to the scoreboard via gym.upload('/root/drqn/records')\n"
     ]
    },
    {
     "name": "stdout",
     "output_type": "stream",
     "text": [
      "Episode finished after 8 timesteps with reward=72.0\n",
      "iter=2010\tepsilon=0.050\treward/step=3.07500\n",
      "iter=2020\tepsilon=0.050\treward/step=3.11380\n",
      "iter=2030\tepsilon=0.050\treward/step=3.07600\n",
      "iter=2040\tepsilon=0.050\treward/step=2.99300\n",
      "iter=2050\tepsilon=0.050\treward/step=2.99800\n",
      "iter=2060\tepsilon=0.050\treward/step=3.00520\n",
      "iter=2070\tepsilon=0.050\treward/step=3.02260\n",
      "iter=2080\tepsilon=0.050\treward/step=3.15680\n",
      "iter=2090\tepsilon=0.050\treward/step=3.24820\n"
     ]
    },
    {
     "name": "stderr",
     "output_type": "stream",
     "text": [
      "[2016-11-28 02:36:24,056] Making new env: ppaquette/DoomBasic-v0\n",
      "[2016-11-28 02:36:24,064] Clearing 2 monitor files from previous run (because force=True was provided)\n"
     ]
    },
    {
     "name": "stdout",
     "output_type": "stream",
     "text": [
      "iter=2100\tepsilon=0.050\treward/step=3.36080\n"
     ]
    },
    {
     "name": "stderr",
     "output_type": "stream",
     "text": [
      "[2016-11-28 02:36:24,508] Finished writing results. You can upload them to the scoreboard via gym.upload('/root/drqn/records')\n"
     ]
    },
    {
     "name": "stdout",
     "output_type": "stream",
     "text": [
      "Episode finished after 10 timesteps with reward=64.0\n",
      "iter=2110\tepsilon=0.050\treward/step=3.43380\n",
      "iter=2120\tepsilon=0.050\treward/step=3.52820\n",
      "iter=2130\tepsilon=0.050\treward/step=3.61660\n",
      "iter=2140\tepsilon=0.050\treward/step=3.66460\n",
      "iter=2150\tepsilon=0.050\treward/step=3.68720\n",
      "iter=2160\tepsilon=0.050\treward/step=3.73540\n",
      "iter=2170\tepsilon=0.050\treward/step=3.73540\n",
      "iter=2180\tepsilon=0.050\treward/step=3.79800\n",
      "iter=2190\tepsilon=0.050\treward/step=3.86320\n"
     ]
    },
    {
     "name": "stderr",
     "output_type": "stream",
     "text": [
      "[2016-11-28 02:44:14,261] Making new env: ppaquette/DoomBasic-v0\n",
      "[2016-11-28 02:44:14,267] Clearing 2 monitor files from previous run (because force=True was provided)\n"
     ]
    },
    {
     "name": "stdout",
     "output_type": "stream",
     "text": [
      "iter=2200\tepsilon=0.050\treward/step=4.01380\n"
     ]
    },
    {
     "name": "stderr",
     "output_type": "stream",
     "text": [
      "[2016-11-28 02:44:14,582] Finished writing results. You can upload them to the scoreboard via gym.upload('/root/drqn/records')\n"
     ]
    },
    {
     "name": "stdout",
     "output_type": "stream",
     "text": [
      "Episode finished after 2 timesteps with reward=96.0\n",
      "iter=2210\tepsilon=0.050\treward/step=4.07480\n",
      "iter=2220\tepsilon=0.050\treward/step=4.04560\n",
      "iter=2230\tepsilon=0.050\treward/step=4.02400\n",
      "iter=2240\tepsilon=0.050\treward/step=4.06380\n",
      "iter=2250\tepsilon=0.050\treward/step=4.15220\n",
      "iter=2260\tepsilon=0.050\treward/step=4.26120\n",
      "iter=2270\tepsilon=0.050\treward/step=4.36600\n",
      "iter=2280\tepsilon=0.050\treward/step=4.34340\n",
      "iter=2290\tepsilon=0.050\treward/step=4.36300\n"
     ]
    },
    {
     "name": "stderr",
     "output_type": "stream",
     "text": [
      "[2016-11-28 02:52:49,363] Making new env: ppaquette/DoomBasic-v0\n",
      "[2016-11-28 02:52:49,370] Clearing 2 monitor files from previous run (because force=True was provided)\n"
     ]
    },
    {
     "name": "stdout",
     "output_type": "stream",
     "text": [
      "iter=2300\tepsilon=0.050\treward/step=4.35600\n"
     ]
    },
    {
     "name": "stderr",
     "output_type": "stream",
     "text": [
      "[2016-11-28 02:52:49,685] Finished writing results. You can upload them to the scoreboard via gym.upload('/root/drqn/records')\n"
     ]
    },
    {
     "name": "stdout",
     "output_type": "stream",
     "text": [
      "Episode finished after 2 timesteps with reward=96.0\n",
      "iter=2310\tepsilon=0.050\treward/step=4.35200\n",
      "iter=2320\tepsilon=0.050\treward/step=4.39620\n",
      "iter=2330\tepsilon=0.050\treward/step=4.48060\n",
      "iter=2340\tepsilon=0.050\treward/step=4.56340\n",
      "iter=2350\tepsilon=0.050\treward/step=4.58500\n",
      "iter=2360\tepsilon=0.050\treward/step=4.67180\n",
      "iter=2370\tepsilon=0.050\treward/step=4.71500\n",
      "iter=2380\tepsilon=0.050\treward/step=4.71500\n",
      "iter=2390\tepsilon=0.050\treward/step=4.73420\n"
     ]
    },
    {
     "name": "stderr",
     "output_type": "stream",
     "text": [
      "[2016-11-28 03:01:54,814] Making new env: ppaquette/DoomBasic-v0\n",
      "[2016-11-28 03:01:54,820] Clearing 2 monitor files from previous run (because force=True was provided)\n"
     ]
    },
    {
     "name": "stdout",
     "output_type": "stream",
     "text": [
      "iter=2400\tepsilon=0.050\treward/step=4.73260\n"
     ]
    },
    {
     "name": "stderr",
     "output_type": "stream",
     "text": [
      "[2016-11-28 03:01:55,244] Finished writing results. You can upload them to the scoreboard via gym.upload('/root/drqn/records')\n"
     ]
    },
    {
     "name": "stdout",
     "output_type": "stream",
     "text": [
      "Episode finished after 8 timesteps with reward=72.0\n",
      "iter=2410\tepsilon=0.050\treward/step=4.83980\n",
      "iter=2420\tepsilon=0.050\treward/step=4.92660\n",
      "iter=2430\tepsilon=0.050\treward/step=4.90440\n",
      "iter=2440\tepsilon=0.050\treward/step=4.89880\n",
      "iter=2450\tepsilon=0.050\treward/step=4.98840\n",
      "iter=2460\tepsilon=0.050\treward/step=4.94680\n",
      "iter=2470\tepsilon=0.050\treward/step=5.01180\n",
      "iter=2480\tepsilon=0.050\treward/step=5.01060\n",
      "iter=2490\tepsilon=0.050\treward/step=5.02680\n"
     ]
    },
    {
     "name": "stderr",
     "output_type": "stream",
     "text": [
      "[2016-11-28 03:10:06,928] Making new env: ppaquette/DoomBasic-v0\n",
      "[2016-11-28 03:10:06,935] Clearing 2 monitor files from previous run (because force=True was provided)\n"
     ]
    },
    {
     "name": "stdout",
     "output_type": "stream",
     "text": [
      "iter=2500\tepsilon=0.050\treward/step=5.06880\n"
     ]
    },
    {
     "name": "stderr",
     "output_type": "stream",
     "text": [
      "[2016-11-28 03:10:07,344] Finished writing results. You can upload them to the scoreboard via gym.upload('/root/drqn/records')\n"
     ]
    },
    {
     "name": "stdout",
     "output_type": "stream",
     "text": [
      "Episode finished after 8 timesteps with reward=65.0\n",
      "iter=2510\tepsilon=0.050\treward/step=5.10920\n",
      "iter=2520\tepsilon=0.050\treward/step=5.11060\n",
      "iter=2530\tepsilon=0.050\treward/step=5.06940\n",
      "iter=2540\tepsilon=0.050\treward/step=5.05000\n",
      "iter=2550\tepsilon=0.050\treward/step=5.09000\n",
      "iter=2560\tepsilon=0.050\treward/step=5.15960\n",
      "iter=2570\tepsilon=0.050\treward/step=5.22460\n",
      "iter=2580\tepsilon=0.050\treward/step=5.33640\n",
      "iter=2590\tepsilon=0.050\treward/step=5.40200\n"
     ]
    },
    {
     "name": "stderr",
     "output_type": "stream",
     "text": [
      "[2016-11-28 03:18:01,370] Making new env: ppaquette/DoomBasic-v0\n",
      "[2016-11-28 03:18:01,377] Clearing 2 monitor files from previous run (because force=True was provided)\n"
     ]
    },
    {
     "name": "stdout",
     "output_type": "stream",
     "text": [
      "iter=2600\tepsilon=0.050\treward/step=5.42460\n"
     ]
    },
    {
     "name": "stderr",
     "output_type": "stream",
     "text": [
      "[2016-11-28 03:18:01,722] Finished writing results. You can upload them to the scoreboard via gym.upload('/root/drqn/records')\n"
     ]
    },
    {
     "name": "stdout",
     "output_type": "stream",
     "text": [
      "Episode finished after 4 timesteps with reward=88.0\n",
      "iter=2610\tepsilon=0.050\treward/step=5.47040\n",
      "iter=2620\tepsilon=0.050\treward/step=5.42460\n",
      "iter=2630\tepsilon=0.050\treward/step=5.38300\n",
      "iter=2640\tepsilon=0.050\treward/step=5.40460\n",
      "iter=2650\tepsilon=0.050\treward/step=5.38300\n",
      "iter=2660\tepsilon=0.050\treward/step=5.40620\n",
      "iter=2670\tepsilon=0.050\treward/step=5.38100\n"
     ]
    },
    {
     "ename": "KeyboardInterrupt",
     "evalue": "",
     "output_type": "error",
     "traceback": [
      "\u001b[1;31m---------------------------------------------------------------------------\u001b[0m",
      "\u001b[1;31mKeyboardInterrupt\u001b[0m                         Traceback (most recent call last)",
      "\u001b[1;32m<ipython-input-26-32867afc21b1>\u001b[0m in \u001b[0;36m<module>\u001b[1;34m()\u001b[0m\n\u001b[0;32m      9\u001b[0m \u001b[1;33m\u001b[0m\u001b[0m\n\u001b[0;32m     10\u001b[0m     \u001b[1;32mfor\u001b[0m \u001b[0mi\u001b[0m \u001b[1;32min\u001b[0m \u001b[0mrange\u001b[0m\u001b[1;33m(\u001b[0m\u001b[1;36m1\u001b[0m\u001b[1;33m)\u001b[0m\u001b[1;33m:\u001b[0m \u001b[1;31m#you may want to increase the number of training iterations per one update\u001b[0m\u001b[1;33m\u001b[0m\u001b[0m\n\u001b[1;32m---> 11\u001b[1;33m         \u001b[0mloss\u001b[0m \u001b[1;33m=\u001b[0m \u001b[0mtrain_step\u001b[0m\u001b[1;33m(\u001b[0m\u001b[1;33m)\u001b[0m\u001b[1;33m\u001b[0m\u001b[0m\n\u001b[0m\u001b[0;32m     12\u001b[0m     \u001b[0mtargetnet\u001b[0m\u001b[1;33m.\u001b[0m\u001b[0mload_weights\u001b[0m\u001b[1;33m(\u001b[0m\u001b[1;36m0.01\u001b[0m\u001b[1;33m)\u001b[0m\u001b[1;33m\u001b[0m\u001b[0m\n\u001b[0;32m     13\u001b[0m \u001b[1;33m\u001b[0m\u001b[0m\n",
      "\u001b[1;32m/usr/local/lib/python2.7/dist-packages/theano/compile/function_module.pyc\u001b[0m in \u001b[0;36m__call__\u001b[1;34m(self, *args, **kwargs)\u001b[0m\n\u001b[0;32m    860\u001b[0m         \u001b[1;32mtry\u001b[0m\u001b[1;33m:\u001b[0m\u001b[1;33m\u001b[0m\u001b[0m\n\u001b[0;32m    861\u001b[0m             \u001b[0moutputs\u001b[0m \u001b[1;33m=\u001b[0m\u001b[0;31m\\\u001b[0m\u001b[1;33m\u001b[0m\u001b[0m\n\u001b[1;32m--> 862\u001b[1;33m                 \u001b[0mself\u001b[0m\u001b[1;33m.\u001b[0m\u001b[0mfn\u001b[0m\u001b[1;33m(\u001b[0m\u001b[1;33m)\u001b[0m \u001b[1;32mif\u001b[0m \u001b[0moutput_subset\u001b[0m \u001b[1;32mis\u001b[0m \u001b[0mNone\u001b[0m \u001b[1;32melse\u001b[0m\u001b[0;31m\\\u001b[0m\u001b[1;33m\u001b[0m\u001b[0m\n\u001b[0m\u001b[0;32m    863\u001b[0m                 \u001b[0mself\u001b[0m\u001b[1;33m.\u001b[0m\u001b[0mfn\u001b[0m\u001b[1;33m(\u001b[0m\u001b[0moutput_subset\u001b[0m\u001b[1;33m=\u001b[0m\u001b[0moutput_subset\u001b[0m\u001b[1;33m)\u001b[0m\u001b[1;33m\u001b[0m\u001b[0m\n\u001b[0;32m    864\u001b[0m         \u001b[1;32mexcept\u001b[0m \u001b[0mException\u001b[0m\u001b[1;33m:\u001b[0m\u001b[1;33m\u001b[0m\u001b[0m\n",
      "\u001b[1;32m/usr/local/lib/python2.7/dist-packages/theano/gof/op.pyc\u001b[0m in \u001b[0;36mrval\u001b[1;34m(p, i, o, n)\u001b[0m\n\u001b[0;32m    905\u001b[0m         \u001b[1;32mif\u001b[0m \u001b[0mparams\u001b[0m \u001b[1;32mis\u001b[0m \u001b[0mgraph\u001b[0m\u001b[1;33m.\u001b[0m\u001b[0mNoParams\u001b[0m\u001b[1;33m:\u001b[0m\u001b[1;33m\u001b[0m\u001b[0m\n\u001b[0;32m    906\u001b[0m             \u001b[1;31m# default arguments are stored in the closure of `rval`\u001b[0m\u001b[1;33m\u001b[0m\u001b[1;33m\u001b[0m\u001b[0m\n\u001b[1;32m--> 907\u001b[1;33m             \u001b[1;32mdef\u001b[0m \u001b[0mrval\u001b[0m\u001b[1;33m(\u001b[0m\u001b[0mp\u001b[0m\u001b[1;33m=\u001b[0m\u001b[0mp\u001b[0m\u001b[1;33m,\u001b[0m \u001b[0mi\u001b[0m\u001b[1;33m=\u001b[0m\u001b[0mnode_input_storage\u001b[0m\u001b[1;33m,\u001b[0m \u001b[0mo\u001b[0m\u001b[1;33m=\u001b[0m\u001b[0mnode_output_storage\u001b[0m\u001b[1;33m,\u001b[0m \u001b[0mn\u001b[0m\u001b[1;33m=\u001b[0m\u001b[0mnode\u001b[0m\u001b[1;33m)\u001b[0m\u001b[1;33m:\u001b[0m\u001b[1;33m\u001b[0m\u001b[0m\n\u001b[0m\u001b[0;32m    908\u001b[0m                 \u001b[0mr\u001b[0m \u001b[1;33m=\u001b[0m \u001b[0mp\u001b[0m\u001b[1;33m(\u001b[0m\u001b[0mn\u001b[0m\u001b[1;33m,\u001b[0m \u001b[1;33m[\u001b[0m\u001b[0mx\u001b[0m\u001b[1;33m[\u001b[0m\u001b[1;36m0\u001b[0m\u001b[1;33m]\u001b[0m \u001b[1;32mfor\u001b[0m \u001b[0mx\u001b[0m \u001b[1;32min\u001b[0m \u001b[0mi\u001b[0m\u001b[1;33m]\u001b[0m\u001b[1;33m,\u001b[0m \u001b[0mo\u001b[0m\u001b[1;33m)\u001b[0m\u001b[1;33m\u001b[0m\u001b[0m\n\u001b[0;32m    909\u001b[0m                 \u001b[1;32mfor\u001b[0m \u001b[0mo\u001b[0m \u001b[1;32min\u001b[0m \u001b[0mnode\u001b[0m\u001b[1;33m.\u001b[0m\u001b[0moutputs\u001b[0m\u001b[1;33m:\u001b[0m\u001b[1;33m\u001b[0m\u001b[0m\n",
      "\u001b[1;31mKeyboardInterrupt\u001b[0m: "
     ]
    }
   ],
   "source": [
    "\n",
    "#the loop may take eons to finish.\n",
    "#consider interrupting early.\n",
    "for i in xrange(10**7):    \n",
    "    \n",
    "    \n",
    "    #train\n",
    "    pool.update(SEQ_LENGTH,append=True)\n",
    "    \n",
    "    for i in range(1): #you may want to increase the number of training iterations per one update\n",
    "        loss = train_step()\n",
    "    targetnet.load_weights(0.01)\n",
    "    \n",
    "    ##update resolver's epsilon (chance of random action instead of optimal one)\n",
    "    current_epsilon = 0.05 + 0.95*np.exp(-epoch_counter/200.)\n",
    "    action_layer.epsilon.set_value(np.float32(current_epsilon))\n",
    "    \n",
    "    if epoch_counter%10==0:\n",
    "        #average reward per game tick in current experience replay pool\n",
    "        pool_mean_reward = pool.experience_replay.rewards.get_value().mean()\n",
    "        print(\"iter=%i\\tepsilon=%.3f\\treward/step=%.5f\"%(epoch_counter,\n",
    "                                                         current_epsilon,\n",
    "                                                         pool_mean_reward))\n",
    "        \n",
    "    ##record current learning progress and show learning curves\n",
    "    if epoch_counter%100 ==0:\n",
    "        rewards[epoch_counter] = pool.evaluate(record_video=False)\n",
    "#         plt.title(\"random frames\")\n",
    "#         for i in range(min((len(pool.games),6))):\n",
    "#             plt.subplot(2,3,i+1)\n",
    "#             plt.imshow(pool.games[i].get_observation())\n",
    "#         plt.show()\n",
    "\n",
    "    \n",
    "    epoch_counter  +=1\n",
    "\n",
    "    \n",
    "# Time to drink some coffee!"
   ]
  },
  {
   "cell_type": "code",
   "execution_count": 28,
   "metadata": {
    "collapsed": true
   },
   "outputs": [],
   "source": [
    "#^--- coffee cup got empty, got bored >.<"
   ]
  },
  {
   "cell_type": "markdown",
   "metadata": {},
   "source": [
    "# Evaluating results\n",
    " * Here we plot learning curves and sample testimonials"
   ]
  },
  {
   "cell_type": "code",
   "execution_count": 29,
   "metadata": {
    "collapsed": false
   },
   "outputs": [
    {
     "data": {
      "text/plain": [
       "[<matplotlib.lines.Line2D at 0x7fe53d7d3250>]"
      ]
     },
     "execution_count": 29,
     "metadata": {},
     "output_type": "execute_result"
    },
    {
     "data": {
      "image/png": "[encoded data removed]",
      "text/plain": [
       "<matplotlib.figure.Figure at 0x7fe515b59e10>"
      ]
     },
     "metadata": {},
     "output_type": "display_data"
    }
   ],
   "source": [
    "plt.plot(*zip(*sorted(list(rewards.items()),key=lambda p:p[0])))\n",
    "    "
   ]
  },
  {
   "cell_type": "code",
   "execution_count": 31,
   "metadata": {
    "collapsed": false
   },
   "outputs": [
    {
     "name": "stderr",
     "output_type": "stream",
     "text": [
      "[2016-11-28 03:24:34,901] Making new env: ppaquette/DoomBasic-v0\n",
      "[2016-11-28 03:24:34,909] Clearing 2 monitor files from previous run (because force=True was provided)\n"
     ]
    },
    {
     "name": "stdout",
     "output_type": "stream",
     "text": [
      "Episode finished after 12 timesteps with reward=46.0\n",
      "Episode finished after 20 timesteps with reward=3.0\n",
      "Episode finished after 8 timesteps with reward=65.0\n",
      "Episode finished after 5 timesteps with reward=84.0\n",
      "Episode finished after 12 timesteps with reward=48.0\n",
      "Episode finished after 10 timesteps with reward=59.0\n",
      "Episode finished after 3 timesteps with reward=92.0\n",
      "Episode finished after 5 timesteps with reward=84.0\n",
      "Episode finished after 2 timesteps with reward=96.0\n",
      "Episode finished after 8 timesteps with reward=65.0\n",
      "Episode finished after 7 timesteps with reward=76.0\n",
      "Episode finished after 5 timesteps with reward=84.0\n",
      "Episode finished after 2 timesteps with reward=96.0\n",
      "Episode finished after 13 timesteps with reward=40.0\n",
      "Episode finished after 8 timesteps with reward=72.0\n",
      "Episode finished after 4 timesteps with reward=88.0\n",
      "Episode finished after 2 timesteps with reward=96.0\n",
      "Episode finished after 8 timesteps with reward=65.0\n"
     ]
    },
    {
     "name": "stderr",
     "output_type": "stream",
     "text": [
      "[2016-11-28 03:24:38,575] Finished writing results. You can upload them to the scoreboard via gym.upload('/root/drqn/records')\n"
     ]
    },
    {
     "name": "stdout",
     "output_type": "stream",
     "text": [
      "Episode finished after 4 timesteps with reward=88.0\n",
      "Episode finished after 2 timesteps with reward=96.0\n",
      "mean session score=72.150000.5\n"
     ]
    }
   ],
   "source": [
    "action_layer.epsilon.set_value(0.001)\n",
    "rw = pool.evaluate(n_games=20,save_path=\"./records\",record_video=True)\n",
    "print(\"mean session score=%f.5\"%np.mean(rw))"
   ]
  },
  {
   "cell_type": "code",
   "execution_count": 32,
   "metadata": {
    "collapsed": true
   },
   "outputs": [],
   "source": [
    "from agentnet.utils.persistence import save,load\n",
    "#save for display\n",
    "save(action_layer,\"doombasic_dqn_2500.pcl\")"
   ]
  },
  {
   "cell_type": "code",
   "execution_count": null,
   "metadata": {
    "collapsed": false
   },
   "outputs": [],
   "source": [
    "from IPython.display import HTML\n",
    "\n",
    "#select the one you want\n",
    "video_path=\"<writeme>\"\n",
    "\n",
    "HTML(\"\"\"\n",
    "<video width=\"640\" height=\"480\" controls>\n",
    "  <source src=\"{}\" type=\"video/mp4\">\n",
    "</video>\n",
    "\"\"\".format(video_path))\n"
   ]
  },
  {
   "cell_type": "markdown",
   "metadata": {
    "collapsed": false
   },
   "source": [
    "# Once you got it working,\n",
    "Try building a network that maximizes the final score\n",
    "\n",
    "* Moar lasagne stuff: convolutional layers, batch normalization, nonlinearities and so on\n",
    "* Recurrent agent memory layers, GRUMemoryLayer, etc\n",
    "* Different reinforcement learning algorithm (p.e. qlearning_n_step), other parameters\n",
    "* Experience replay pool\n",
    "\n",
    "\n",
    "Look for info?\n",
    "* [lasagne doc](http://lasagne.readthedocs.io/en/latest/)\n",
    "* [agentnet doc](http://agentnet.readthedocs.io/en/latest/)\n",
    "* [gym homepage](http://gym.openai.com/)\n",
    "\n",
    "\n",
    "You can also try to expand to a different game: \n",
    " * all OpenAI Atari games are already compatible, you only need to change GAME_TITLE\n",
    " * Other discrete action space environments are also accessible this way\n",
    " * For continuous action spaces, either discretize actions or use continuous RL algorithms (e.g. .learning.dpg_n_step)\n",
    " * Adapting to a custom non-OpenAI environment can be done with a simple wrapper\n",
    " \n",
    " \n",
    "__Good luck!__"
   ]
  },
  {
   "cell_type": "code",
   "execution_count": null,
   "metadata": {
    "collapsed": true
   },
   "outputs": [],
   "source": []
  }
 ],
 "metadata": {
  "kernelspec": {
   "display_name": "Python 2",
   "language": "python",
   "name": "python2"
  },
  "language_info": {
   "codemirror_mode": {
    "name": "ipython",
    "version": 2
   },
   "file_extension": ".py",
   "mimetype": "text/x-python",
   "name": "python",
   "nbconvert_exporter": "python",
   "pygments_lexer": "ipython2",
   "version": "2.7.6"
  }
 },
 "nbformat": 4,
 "nbformat_minor": 0
}
